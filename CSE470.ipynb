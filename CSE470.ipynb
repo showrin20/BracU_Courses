{
  "nbformat": 4,
  "nbformat_minor": 0,
  "metadata": {
    "colab": {
      "provenance": []
    },
    "kernelspec": {
      "name": "python3",
      "display_name": "Python 3"
    },
    "language_info": {
      "name": "python"
    }
  },
  "cells": [
    {
      "cell_type": "markdown",
      "source": [
        "Observer Pattern"
      ],
      "metadata": {
        "id": "f2J1LMHyXfvj"
      }
    },
    {
      "cell_type": "code",
      "execution_count": null,
      "metadata": {
        "id": "HUm6Jcz51HtL"
      },
      "outputs": [],
      "source": [
        "#subject class\n",
        "class Celebrity:\n",
        "    def __init__(self):\n",
        "        self._fans = []\n",
        "        self._state = None\n",
        "    def attach(self, fan):\n",
        "        self._fans.append(fan)\n",
        "    def detach(self, fan):\n",
        "        self._fans.remove(fan)\n",
        "    def _notify(self):\n",
        "        for fan in self._fans:\n",
        "            fan.update(self)\n",
        "    def set_state(self, state):\n",
        "        self._state = state\n",
        "        self._notify()\n",
        "    def get_state(self):\n",
        "        return self._state\n",
        "\n",
        "#observer class\n",
        "class Fan:\n",
        "    def __init__(self):\n",
        "        self._celebrities = []\n",
        "    def update(self, celebrity):\n",
        "        state = celebrity.get_state()\n",
        "    def add_celebrity(self, celebrity):\n",
        "        self._celebrities.append(celebrity)\n",
        "        celebrity.attach(self)\n",
        "    def remove_celebrity(self, celebrity):\n",
        "        self._celebrities.remove(celebrity)\n",
        "        celebrity.detach(self)\n",
        "\n",
        "\n",
        "\n",
        "\n",
        "celebrity=Celebrity()\n",
        "fan=Fan()\n",
        "fan.add_celebrity(celebrity)\n",
        "celebrity.set_state(\"new\")\n",
        "fan.remove_celebrity(celebrity)\n",
        "\n",
        "\n",
        "\n",
        "\n",
        "\n"
      ]
    },
    {
      "cell_type": "markdown",
      "source": [
        "Singleton Pattern"
      ],
      "metadata": {
        "id": "hEn0t1hfXjjN"
      }
    },
    {
      "cell_type": "code",
      "source": [
        "class Singleton:\n",
        "  __instance=None\n",
        "  def __new__(cls):\n",
        "    if cls.__instance==None:\n",
        "      print(\"Instance creating\")\n",
        "      cls.__instance =super(Singleton,cls).__new__(cls)\n",
        "    return cls.__instance\n",
        "\n",
        "\n",
        "  def get_service(self):\n",
        "    print(\"Searvice provided by Singleton instance \")\n",
        "\n",
        "\n",
        "s1=Singleton()\n",
        "s2=Singleton()\n",
        "s1.get_service()\n",
        "s2.get_service()"
      ],
      "metadata": {
        "colab": {
          "base_uri": "https://localhost:8080/"
        },
        "id": "ajc18pRqQG-L",
        "outputId": "142820ce-69b3-45c8-dfcf-4224bff27a3b"
      },
      "execution_count": null,
      "outputs": [
        {
          "output_type": "stream",
          "name": "stdout",
          "text": [
            "Instance creating\n",
            "Searvice provided by Singleton instance \n",
            "Searvice provided by Singleton instance \n"
          ]
        }
      ]
    },
    {
      "cell_type": "markdown",
      "source": [
        " Adapter Pattern\n"
      ],
      "metadata": {
        "id": "D7RDeel2Nm6Z"
      }
    },
    {
      "cell_type": "code",
      "source": [
        "\n",
        "\n",
        "class ItalianPizza:\n",
        "    def prepare_italian_pizza(self):\n",
        "        print(\"Preparing a delicious Italian pizza with tomato and mozzarella.\")\n",
        "\n",
        "class AmericanPizza:\n",
        "    def prepare_american_pizza(self):\n",
        "        print(\"Preparing a classic American pizza with pepperoni and cheese.\")\n",
        "\n",
        "class PizzaAdapter:\n",
        "    def __init__(self, pizza):\n",
        "        self.pizza = pizza\n",
        "\n",
        "    def prepare_pizza(self):\n",
        "        if isinstance(self.pizza, ItalianPizza):\n",
        "            self.pizza.prepare_italian_pizza()\n",
        "        elif isinstance(self.pizza, AmericanPizza):\n",
        "            self.pizza.prepare_american_pizza()\n",
        "\n",
        "# Usage\n",
        "italian_pizza = ItalianPizza()\n",
        "american_pizza = AmericanPizza()\n",
        "\n",
        "italian_adapter = PizzaAdapter(italian_pizza)\n",
        "american_adapter = PizzaAdapter(american_pizza)\n",
        "\n",
        "italian_adapter.prepare_pizza()\n",
        "american_adapter.prepare_pizza()\n"
      ],
      "metadata": {
        "id": "HmXfsy-gc_EH"
      },
      "execution_count": null,
      "outputs": []
    },
    {
      "cell_type": "markdown",
      "source": [
        "Assignment"
      ],
      "metadata": {
        "id": "w2GhlgZVvy4w"
      }
    },
    {
      "cell_type": "markdown",
      "source": [
        "A YouTube-like platform where only one channel can exist (Singleton) and users are notified when a new video is uploaded (Observer)."
      ],
      "metadata": {
        "id": "s4UlrfdGwK8E"
      }
    },
    {
      "cell_type": "code",
      "source": [
        "#Singleton +observer\n",
        "\n",
        "class Twitter:\n",
        "    _instance = None\n",
        "\n",
        "    def __init__(self):\n",
        "        if not hasattr(self, '_users'):\n",
        "            self._users = []\n",
        "            self._videos = []\n",
        "\n",
        "    @staticmethod\n",
        "    def get_instance(cls):\n",
        "        if cls._instance is None:\n",
        "            cls._instance = cls()\n",
        "        return cls._instance\n",
        "\n",
        "    def subscribe(self, user):\n",
        "        if user not in self._users:\n",
        "            self._users.append(user)\n",
        "\n",
        "    def unsubscribe(self, user):\n",
        "        if user in self._users:\n",
        "            self._users.remove(user)\n",
        "\n",
        "    def notify_subscribers(self, video):\n",
        "        for user in self._users:\n",
        "            user.receive_notification(video)\n",
        "\n",
        "    def upload_video(self, video):\n",
        "        self._videos.append(video)\n",
        "        self.notify_subscribers(video)\n",
        "\n",
        "\n",
        "class User:\n",
        "    def __init__(self, name):\n",
        "        self.name = name\n",
        "\n",
        "    def follow_twitter(self, twitter_instance):\n",
        "        twitter_instance.subscribe(self)\n",
        "\n",
        "    def unfollow_twitter(self, twitter_instance):\n",
        "        twitter_instance.unsubscribe(self)\n",
        "\n",
        "    def receive_notification(self, video):\n",
        "        print(f\"{self.name}, Twitter uploaded a new video: {video}\")"
      ],
      "metadata": {
        "id": "PhsuAkNdvu7p"
      },
      "execution_count": null,
      "outputs": []
    },
    {
      "cell_type": "code",
      "source": [
        "#Observer\n",
        "\n",
        "class Channel:\n",
        "\n",
        "    def __init__(self, name):\n",
        "        self.name = name\n",
        "        self.videos = []\n",
        "        self.reels = []\n",
        "        self.subscribers = set()\n",
        "\n",
        "    def subscribe(self, user):\n",
        "        self.subscribers.add(user)\n",
        "\n",
        "    def unsubscribe(self, user):\n",
        "        self.subscribers.discard(user)\n",
        "\n",
        "    def _notify_subscribers(self, video):\n",
        "        for user in self.subscribers:\n",
        "            user.receive_notification(self.name, video)\n",
        "\n",
        "    def upload_video(self, video):\n",
        "        self.videos.append(video)\n",
        "        self._notify_subscribers(video)\n",
        "\n",
        "    def upload_reel(self, reel):\n",
        "        self.reels.append(reel)\n",
        "\n",
        "\n",
        "class User:\n",
        "\n",
        "    def __init__(self, name):\n",
        "        self.name = name\n",
        "\n",
        "    def subscribe_to_channel(self, channel):\n",
        "        channel.subscribe(self)\n",
        "\n",
        "    def unsubscribe_from_channel(self, channel):\n",
        "        channel.unsubscribe(self)\n",
        "\n",
        "    def receive_notification(self, channel_name, video):\n",
        "        print(f\"{self.name}, {channel_name} uploaded a new video: {video}\")"
      ],
      "metadata": {
        "id": "oMB8EGdx0HG9"
      },
      "execution_count": null,
      "outputs": []
    },
    {
      "cell_type": "markdown",
      "source": [
        "WECHAT platform that integrates multiple functionalities (Adapter) and uses notifications (Observer) for features like news feeds."
      ],
      "metadata": {
        "id": "NAEkcCk2wM41"
      }
    },
    {
      "cell_type": "code",
      "source": [
        "#Singleton +Adapter\n",
        "\n",
        "class WECHAT:\n",
        "    _instance = None\n",
        "\n",
        "    def __new__(cls):\n",
        "        if cls._instance is None:\n",
        "            cls._instance = super(WECHAT, cls).__new__(cls)\n",
        "        return cls._instance\n",
        "\n",
        "    def useNewsFeed(self):\n",
        "        return \"News Feed from WECHAT.\"\n",
        "\n",
        "    def createFriendsGroup(self):\n",
        "        return \"Friends group from WECHAT.\"\n",
        "\n",
        "class Facebook:\n",
        "    def postNewsFeed(self):\n",
        "        return \"Posting on Facebook's News Feed.\"\n",
        "\n",
        "    def createFacebookGroup(self):\n",
        "        return \"Creating a Facebook Group.\"\n",
        "\n",
        "class Messenger:\n",
        "    def sendMessengerMessage(self):\n",
        "        return \"Sending message through Messenger.\"\n",
        "\n",
        "class Twitch:\n",
        "    def liveStream(self):\n",
        "        return \"Live streaming on Twitch.\"\n",
        "\n",
        "# Adapter pattern using composition\n",
        "class FacebookAdapter:\n",
        "    def __init__(self, facebook):\n",
        "        self.facebook = facebook\n",
        "\n",
        "    def useNewsFeed(self):\n",
        "        return self.facebook.postNewsFeed()\n",
        "\n",
        "    def createFriendsGroup(self):\n",
        "        return self.facebook.createFacebookGroup()\n",
        "\n",
        "class MessengerAdapter:\n",
        "    def __init__(self, messenger):\n",
        "        self.messenger = messenger\n",
        "\n",
        "    def sendMessage(self):\n",
        "        return self.messenger.sendMessengerMessage()\n",
        "\n",
        "class TwitchAdapter:\n",
        "    def __init__(self, twitch):\n",
        "        self.twitch = twitch\n",
        "\n",
        "    def streamingVideo(self):\n",
        "        return self.twitch.liveStream()"
      ],
      "metadata": {
        "id": "l7P5XDxZv2oV"
      },
      "execution_count": null,
      "outputs": []
    },
    {
      "cell_type": "markdown",
      "source": [
        " A consistent configuration system similar to the \"Magic Sweets\" bakery, where there is only one source of settings (Singleton).\n",
        "\n"
      ],
      "metadata": {
        "id": "7dFrzqOlwYYx"
      }
    },
    {
      "cell_type": "code",
      "source": [
        "#Singleton\n",
        "class ConfigManager:\n",
        "    _instance = None\n",
        "    _initialized = False\n",
        "\n",
        "    def __new__(cls):\n",
        "        if cls._instance is None:\n",
        "            cls._instance = super(ConfigManager, cls).__new__(cls)\n",
        "        return cls._instance\n",
        "\n",
        "    def __init__(self):\n",
        "        if not ConfigManager._initialized:\n",
        "            self.data = None\n",
        "            self.cache = None\n",
        "            ConfigManager._initialized = True  # Set initialized flag to True\n",
        "\n",
        "    def set_data(self, data):\n",
        "        self.data = data\n",
        "\n",
        "    def set_cache(self, cache):\n",
        "        self.cache = cache\n",
        "\n",
        "    def get_data(self):\n",
        "        return self.data\n",
        "\n",
        "    def get_cache(self):\n",
        "        return self.cache\n"
      ],
      "metadata": {
        "id": "MU68n8vGv2rO"
      },
      "execution_count": null,
      "outputs": []
    },
    {
      "cell_type": "code",
      "source": [],
      "metadata": {
        "id": "DNA9Mnjwv2uS"
      },
      "execution_count": null,
      "outputs": []
    }
  ]
}