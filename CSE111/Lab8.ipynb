{
  "nbformat": 4,
  "nbformat_minor": 0,
  "metadata": {
    "colab": {
      "provenance": []
    },
    "kernelspec": {
      "name": "python3",
      "display_name": "Python 3"
    },
    "language_info": {
      "name": "python"
    }
  },
  "cells": [
    {
      "cell_type": "code",
      "execution_count": null,
      "metadata": {
        "id": "Qcg_RC4phcCC",
        "colab": {
          "base_uri": "https://localhost:8080/"
        },
        "outputId": "8eeefb13-3034-4eac-8da7-4dd0fcb4243a"
      },
      "outputs": [
        {
          "output_type": "stream",
          "name": "stdout",
          "text": [
            "RealPart: 1.0\n",
            "ImaginaryPart: 1.0\n",
            "---------\n",
            "RealPart: 5.0\n",
            "ImaginaryPart: 7.0\n"
          ]
        }
      ],
      "source": [
        "class RealNumber:\n",
        "    \n",
        "    def __init__(self, r=0):\n",
        "        self.__realValue = r  \n",
        "    def getRealValue(self):\n",
        "        return self.__realValue\n",
        "    def setRealValue(self, r):\n",
        "        self.__realValue = r\n",
        "    def __str__(self):\n",
        "        return 'RealPart: '+str(self.getRealValue())    \n",
        "class ComplexNumber(RealNumber):\n",
        "   def __init__(self,r=1,i=1):\n",
        "    super().__init__(r)\n",
        "    self.i=i\n",
        "   def setRealValue(self, r):\n",
        "      self.__realValue = r\n",
        "   def __str__(self):\n",
        "     return f\"RealPart: {str(float(self.getRealValue()))}\\nImaginaryPart: {str(float(self.i))}\"    \n",
        "\n",
        "cn1 = ComplexNumber()\n",
        "print(cn1)\n",
        "print('---------')\n",
        "cn2 = ComplexNumber(5,7)\n",
        "print(cn2)"
      ]
    },
    {
      "cell_type": "code",
      "source": [
        "class RealNumber:\n",
        "    def __init__(self, number=0):\n",
        "        self.number = number\n",
        "    def __add__(self, anotherRealNumber):\n",
        "        return self.number + anotherRealNumber.number\n",
        "    def __sub__(self, anotherRealNumber):\n",
        "        return self.number - anotherRealNumber.number\n",
        "    def __str__(self):\n",
        "        return str(self.number)\n",
        "class ComplexNumber(RealNumber):\n",
        "  def __init__(self,number,i):\n",
        "    super().__init__(number)\n",
        "    self.i=i\n",
        "  def __add__(self, anotherRealNumber):\n",
        "    self.number=\n",
        "    return self.number + anotherRealNumber.number\n",
        "  def __sub__(self, anotherRealNumber):\n",
        "    return self.number - anotherRealNumber.number\n",
        "  def __str__(self):\n",
        "    return f\"{self.number}+{self.i}i\"\n",
        "\n",
        "      \n",
        "r1 = RealNumber(3)\n",
        "r2 = RealNumber(5)\n",
        "print(r1+r2)\n",
        "cn1 = ComplexNumber(2, 1)\n",
        "print(cn1)\n",
        "cn2 = ComplexNumber(r1, 5)\n",
        "print(cn2)\n",
        "cn3 = cn1 + cn2\n",
        "print(cn3)\n",
        "cn4 = cn1 - cn2\n",
        "print(cn4)\n"
      ],
      "metadata": {
        "id": "AxATBHBGu83r",
        "colab": {
          "base_uri": "https://localhost:8080/",
          "height": 409
        },
        "outputId": "5e0454e5-3808-4c77-8c90-76a1a5fd38e6"
      },
      "execution_count": null,
      "outputs": [
        {
          "output_type": "stream",
          "name": "stdout",
          "text": [
            "8\n",
            "2+1i\n",
            "3+5i\n"
          ]
        },
        {
          "output_type": "error",
          "ename": "TypeError",
          "evalue": "ignored",
          "traceback": [
            "\u001b[0;31m---------------------------------------------------------------------------\u001b[0m",
            "\u001b[0;31mTypeError\u001b[0m                                 Traceback (most recent call last)",
            "\u001b[0;32m<ipython-input-1-ec2157793e97>\u001b[0m in \u001b[0;36m<module>\u001b[0;34m\u001b[0m\n\u001b[1;32m     27\u001b[0m \u001b[0mcn2\u001b[0m \u001b[0;34m=\u001b[0m \u001b[0mComplexNumber\u001b[0m\u001b[0;34m(\u001b[0m\u001b[0mr1\u001b[0m\u001b[0;34m,\u001b[0m \u001b[0;36m5\u001b[0m\u001b[0;34m)\u001b[0m\u001b[0;34m\u001b[0m\u001b[0;34m\u001b[0m\u001b[0m\n\u001b[1;32m     28\u001b[0m \u001b[0mprint\u001b[0m\u001b[0;34m(\u001b[0m\u001b[0mcn2\u001b[0m\u001b[0;34m)\u001b[0m\u001b[0;34m\u001b[0m\u001b[0;34m\u001b[0m\u001b[0m\n\u001b[0;32m---> 29\u001b[0;31m \u001b[0mcn3\u001b[0m \u001b[0;34m=\u001b[0m \u001b[0mcn1\u001b[0m \u001b[0;34m+\u001b[0m \u001b[0mcn2\u001b[0m\u001b[0;34m\u001b[0m\u001b[0;34m\u001b[0m\u001b[0m\n\u001b[0m\u001b[1;32m     30\u001b[0m \u001b[0mprint\u001b[0m\u001b[0;34m(\u001b[0m\u001b[0mcn3\u001b[0m\u001b[0;34m)\u001b[0m\u001b[0;34m\u001b[0m\u001b[0;34m\u001b[0m\u001b[0m\n\u001b[1;32m     31\u001b[0m \u001b[0mcn4\u001b[0m \u001b[0;34m=\u001b[0m \u001b[0mcn1\u001b[0m \u001b[0;34m-\u001b[0m \u001b[0mcn2\u001b[0m\u001b[0;34m\u001b[0m\u001b[0;34m\u001b[0m\u001b[0m\n",
            "\u001b[0;32m<ipython-input-1-ec2157793e97>\u001b[0m in \u001b[0;36m__add__\u001b[0;34m(self, anotherRealNumber)\u001b[0m\n\u001b[1;32m     13\u001b[0m     \u001b[0mself\u001b[0m\u001b[0;34m.\u001b[0m\u001b[0mi\u001b[0m\u001b[0;34m=\u001b[0m\u001b[0mi\u001b[0m\u001b[0;34m\u001b[0m\u001b[0;34m\u001b[0m\u001b[0m\n\u001b[1;32m     14\u001b[0m   \u001b[0;32mdef\u001b[0m \u001b[0m__add__\u001b[0m\u001b[0;34m(\u001b[0m\u001b[0mself\u001b[0m\u001b[0;34m,\u001b[0m \u001b[0manotherRealNumber\u001b[0m\u001b[0;34m)\u001b[0m\u001b[0;34m:\u001b[0m\u001b[0;34m\u001b[0m\u001b[0;34m\u001b[0m\u001b[0m\n\u001b[0;32m---> 15\u001b[0;31m     \u001b[0;32mreturn\u001b[0m \u001b[0mself\u001b[0m\u001b[0;34m.\u001b[0m\u001b[0mnumber\u001b[0m \u001b[0;34m+\u001b[0m \u001b[0manotherRealNumber\u001b[0m\u001b[0;34m.\u001b[0m\u001b[0mnumber\u001b[0m\u001b[0;34m\u001b[0m\u001b[0;34m\u001b[0m\u001b[0m\n\u001b[0m\u001b[1;32m     16\u001b[0m   \u001b[0;32mdef\u001b[0m \u001b[0m__sub__\u001b[0m\u001b[0;34m(\u001b[0m\u001b[0mself\u001b[0m\u001b[0;34m,\u001b[0m \u001b[0manotherRealNumber\u001b[0m\u001b[0;34m)\u001b[0m\u001b[0;34m:\u001b[0m\u001b[0;34m\u001b[0m\u001b[0;34m\u001b[0m\u001b[0m\n\u001b[1;32m     17\u001b[0m     \u001b[0;32mreturn\u001b[0m \u001b[0mself\u001b[0m\u001b[0;34m.\u001b[0m\u001b[0mnumber\u001b[0m \u001b[0;34m-\u001b[0m \u001b[0manotherRealNumber\u001b[0m\u001b[0;34m.\u001b[0m\u001b[0mnumber\u001b[0m\u001b[0;34m\u001b[0m\u001b[0;34m\u001b[0m\u001b[0m\n",
            "\u001b[0;31mTypeError\u001b[0m: unsupported operand type(s) for +: 'int' and 'RealNumber'"
          ]
        }
      ]
    },
    {
      "cell_type": "code",
      "source": [
        "class Account: \n",
        "  numberOfAccount=0\n",
        "  def __init__(self, balance):\n",
        "      self._balance = balance\n",
        "      Account.numberOfAccount+=1\n",
        "  def getBalance(self):\n",
        "        return self._balance\n",
        "class CheckingAccount(Account):\n",
        "    def __init__(self, balance=0):\n",
        "      super().__init__(balance)\n",
        "    def getBalance(self):\n",
        "        return self._balance\n",
        "    def __str__(self):\n",
        "      return f\"Account Balance:{self._balance}\"\n",
        "    \n",
        "print('Number of Checking Accounts: ', CheckingAccount.numberOfAccount)\n",
        "print(CheckingAccount())\n",
        "print(CheckingAccount(100.00))\n",
        "print(CheckingAccount(200.00))\n",
        "print('Number of Checking Accounts: ', CheckingAccount.numberOfAccount)"
      ],
      "metadata": {
        "id": "skDcWPdpZUI4",
        "colab": {
          "base_uri": "https://localhost:8080/"
        },
        "outputId": "1eb5b6d2-3c56-47ee-d2f6-c300bf8f06d0"
      },
      "execution_count": null,
      "outputs": [
        {
          "output_type": "stream",
          "name": "stdout",
          "text": [
            "Number of Checking Accounts:  0\n",
            "Account Balance:0\n",
            "Account Balance:100.0\n",
            "Account Balance:200.0\n",
            "Number of Checking Accounts:  3\n"
          ]
        }
      ]
    },
    {
      "cell_type": "code",
      "source": [
        "class Fruit:\n",
        "    def __init__(self, formalin=False, name=''):\n",
        "        self.__formalin = formalin\n",
        "        self.name = name\n",
        "    \n",
        "    def getName(self):\n",
        "        return self.name\n",
        "    \n",
        "    def hasFormalin(self):\n",
        "        return self.__formalin\n",
        "    \n",
        "class testFruit:\n",
        "  def test(self, f):\n",
        "    print('----Printing Detail----')\n",
        "    if f.hasFormalin():\n",
        "      print('Do not eat the',f.getName(),'.')\n",
        "      print(f)\n",
        "    else:\n",
        "      print('Eat the',f.getName(),'.')\n",
        "      print(f)\n",
        "class Mango(Fruit,testFruit):\n",
        "    def __init_(self,formalin=True, name='Mango'):\n",
        "      super().__init__(formalin, name)\n",
        "    def __str__(self):\n",
        "      if self.hasFormalin():\n",
        "        return f\"{self.getName()} are bad for you\"\n",
        "      else:\n",
        "        return f\"{self.getName()} are good for you\"\n",
        "class Jackfruit(Fruit,testFruit):\n",
        "    def __init_(self,formalin=False, name='Jackfruit'):\n",
        "      super().__init__(formalin, name)\n",
        "\n",
        "    def __str__(self):\n",
        "      if self.hasFormalin():\n",
        "        return f\"{self.name} are bad for you\"\n",
        "      else:\n",
        "        return f\"{self.name} are good for you\"\n",
        "  \n",
        "\n",
        "\n",
        "m = Mango()\n",
        "j = Jackfruit()\n",
        "t1 = testFruit()\n",
        "t1.test(m)\n",
        "t1.test(j)\n",
        "\n"
      ],
      "metadata": {
        "id": "pMHTjcsuesJ5",
        "colab": {
          "base_uri": "https://localhost:8080/"
        },
        "outputId": "ac327874-af2e-486b-f533-37ad3ca2a36d"
      },
      "execution_count": null,
      "outputs": [
        {
          "output_type": "stream",
          "name": "stdout",
          "text": [
            "----Printing Detail----\n",
            "Eat the  .\n",
            " are good for you\n",
            "----Printing Detail----\n",
            "Eat the  .\n",
            " are good for you\n"
          ]
        }
      ]
    },
    {
      "cell_type": "code",
      "source": [],
      "metadata": {
        "id": "f-0_oLghfKC3"
      },
      "execution_count": null,
      "outputs": []
    },
    {
      "cell_type": "code",
      "source": [
        "class Exam:\n",
        "    def __init__(self,marks):\n",
        "        self.marks = marks\n",
        "        self.time = 60\n",
        "        \n",
        "    def examSyllabus(self):\n",
        "        return \"Maths , English\"\n",
        "    def examParts(self):\n",
        "        return \"Part 1 - Maths\\nPart 2 - English\\n\"\n",
        "class ScienceExam(Exam):\n",
        "    def __init__(self,marks,time,*part):\n",
        "      super().__init__(marks)\n",
        "      self.time=time\n",
        "      self.list1=[]\n",
        "      self.count=2\n",
        "      self.list2=\"\"\n",
        "      self.list3=\"\"\n",
        "      for i in part:\n",
        "        self.list1.append(i)\n",
        "        self.count+=1\n",
        "\n",
        "    def examSyllabus(self):\n",
        "      self.list2=super().examSyllabus()\n",
        "      for i in self.list1:\n",
        "         self.list2=self.list2+\",\"+i+\",\"\n",
        "      return  self.list2[0:-1]\n",
        "          \n",
        "    def examParts(self):\n",
        "      self.list2=super().examSyllabus()\n",
        "\n",
        "    def __str__(self):\n",
        "      return f\"Marks: {self.marks} Time: {self.time} minutes Number of Parts: {self.count}\"\n",
        "    \n",
        "engineering = ScienceExam(100,90,\"Physics\",\"HigherMaths\")\n",
        "print(engineering)\n",
        "print('----------------------------------')\n",
        "print(engineering.examSyllabus())\n",
        "print(engineering.examParts())\n",
        "print('==================================') \n",
        "architecture = ScienceExam(100,120,\"Physics\",\"HigherMaths\",\"Drawing\")\n",
        "print(architecture)\n",
        "print('----------------------------------')\n",
        "print(architecture.examSyllabus())\n",
        "print(architecture.examParts())"
      ],
      "metadata": {
        "colab": {
          "base_uri": "https://localhost:8080/"
        },
        "id": "wokMVmfHfLvG",
        "outputId": "42c435f0-0cad-433a-8e90-a7239c71127f"
      },
      "execution_count": null,
      "outputs": [
        {
          "output_type": "stream",
          "name": "stdout",
          "text": [
            "Marks: 100 Time: 90 minutes Number of Parts: 4\n",
            "----------------------------------\n",
            "Maths , English,Physics,,HigherMaths\n",
            "Part 1 - Maths\n",
            "Part 2 - English\n",
            "\n",
            "==================================\n",
            "Marks: 100 Time: 120 minutes Number of Parts: 5\n",
            "----------------------------------\n",
            "Maths , English,Physics,,HigherMaths,,Drawing\n",
            "Part 1 - Maths\n",
            "Part 2 - English\n",
            "\n"
          ]
        }
      ]
    },
    {
      "cell_type": "code",
      "source": [
        "class Department:\n",
        "    def __init__(self, s):\n",
        "        self.semester = s\n",
        "        self.name = \"Default\"\n",
        "        self.id = -1\n",
        "        \n",
        "    def student_info(self):\n",
        "        print(\"Name:\", self.name)\n",
        "        print(\"ID:\", self.id) \n",
        "        \n",
        "    def courses(self, c1, c2, c3):\n",
        "        print(\"No courses Approved yet!\")\n",
        "class CSE(Department):\n",
        "    def __init__(self, name,id,s):\n",
        "      super().__init__(s)\n",
        "      self.name = name\n",
        "      self.id = id\n",
        "s1 = CSE(\"Rahim\", 16101328,\"Spring2016\")\n",
        "s1.student_info()\n",
        "s1.courses(\"CSE110\", \"MAT110\", \"ENG101\")\n",
        "print(\"==================\")\n",
        "s2 = EEE(\"Tanzim\", 18101326, \"Spring2018\")\n",
        "s2.student_info()\n",
        "s2.courses(\"Mat110\", \"PHY111\", \"ENG101\")\n",
        "print(\"==================\")\n",
        "s3 = CSE(\"Rudana\", 18101326, \"Fall2017\")\n",
        "s3.student_info()\n",
        "s3.courses(\"CSE111\", \"PHY101\", \"MAT120\")\n",
        "print(\"==================\")\n",
        "s4 = EEE(\"Zainab\", 19201623, \"Summer2019\")\n",
        "s4.student_info()\n",
        "s4.courses(\"EEE201\", \"PHY112\", \"MAT120\")\n"
      ],
      "metadata": {
        "id": "nzI5-tWWn5l-"
      },
      "execution_count": null,
      "outputs": []
    }
  ]
}